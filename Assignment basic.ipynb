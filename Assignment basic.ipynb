{
 "cells": [
  {
   "cell_type": "code",
   "execution_count": 10,
   "id": "8a705aca-ac52-4268-bfc4-0fcbda2cb12b",
   "metadata": {},
   "outputs": [],
   "source": [
    "#Q1\n",
    "import pandas as pd\n",
    "list = [4,8,15,16.23,42]"
   ]
  },
  {
   "cell_type": "code",
   "execution_count": 11,
   "id": "a5dcc993-9acc-45f6-bdfd-98172845af95",
   "metadata": {},
   "outputs": [],
   "source": [
    "ser = pd.Series(list)"
   ]
  },
  {
   "cell_type": "code",
   "execution_count": 12,
   "id": "d24ebcd5-b7b2-4f82-aea4-7dee207f7024",
   "metadata": {},
   "outputs": [
    {
     "data": {
      "text/plain": [
       "0     4.00\n",
       "1     8.00\n",
       "2    15.00\n",
       "3    16.23\n",
       "4    42.00\n",
       "dtype: float64"
      ]
     },
     "execution_count": 12,
     "metadata": {},
     "output_type": "execute_result"
    }
   ],
   "source": [
    "ser\n"
   ]
  },
  {
   "cell_type": "code",
   "execution_count": 13,
   "id": "9ff87c03-694d-4517-98c8-79c05f989713",
   "metadata": {},
   "outputs": [
    {
     "data": {
      "text/plain": [
       "pandas.core.series.Series"
      ]
     },
     "execution_count": 13,
     "metadata": {},
     "output_type": "execute_result"
    }
   ],
   "source": [
    "type(ser)"
   ]
  },
  {
   "cell_type": "code",
   "execution_count": 14,
   "id": "5348c60d-741c-4bef-8c47-28ca4075d79f",
   "metadata": {},
   "outputs": [],
   "source": [
    "#Q2\n",
    "t = [1,2,3,4,'ujwal',6,23,54,4.34,'kadshf']\n",
    "var = pd.Series(t)\n"
   ]
  },
  {
   "cell_type": "code",
   "execution_count": 15,
   "id": "5a988989-1aff-481b-aa94-831b85187d67",
   "metadata": {},
   "outputs": [
    {
     "data": {
      "text/plain": [
       "0         1\n",
       "1         2\n",
       "2         3\n",
       "3         4\n",
       "4     ujwal\n",
       "5         6\n",
       "6        23\n",
       "7        54\n",
       "8      4.34\n",
       "9    kadshf\n",
       "dtype: object"
      ]
     },
     "execution_count": 15,
     "metadata": {},
     "output_type": "execute_result"
    }
   ],
   "source": [
    "var"
   ]
  },
  {
   "cell_type": "code",
   "execution_count": 17,
   "id": "e2566130-003f-43fc-9fd1-e4c8b440a53e",
   "metadata": {},
   "outputs": [],
   "source": [
    "#Q3\n",
    "import pandas as pd\n",
    "data = [['Alice',25,'F'],['Bob',30,'M'],['Claire',27,'F']]\n",
    "ser = pd.DataFrame(data,columns=('Name','Age','Gender'))"
   ]
  },
  {
   "cell_type": "code",
   "execution_count": 18,
   "id": "a6314ddb-54fb-4d2b-a966-3db82b533665",
   "metadata": {},
   "outputs": [
    {
     "data": {
      "text/html": [
       "<div>\n",
       "<style scoped>\n",
       "    .dataframe tbody tr th:only-of-type {\n",
       "        vertical-align: middle;\n",
       "    }\n",
       "\n",
       "    .dataframe tbody tr th {\n",
       "        vertical-align: top;\n",
       "    }\n",
       "\n",
       "    .dataframe thead th {\n",
       "        text-align: right;\n",
       "    }\n",
       "</style>\n",
       "<table border=\"1\" class=\"dataframe\">\n",
       "  <thead>\n",
       "    <tr style=\"text-align: right;\">\n",
       "      <th></th>\n",
       "      <th>Name</th>\n",
       "      <th>Age</th>\n",
       "      <th>Gender</th>\n",
       "    </tr>\n",
       "  </thead>\n",
       "  <tbody>\n",
       "    <tr>\n",
       "      <th>0</th>\n",
       "      <td>Alice</td>\n",
       "      <td>25</td>\n",
       "      <td>F</td>\n",
       "    </tr>\n",
       "    <tr>\n",
       "      <th>1</th>\n",
       "      <td>Bob</td>\n",
       "      <td>30</td>\n",
       "      <td>M</td>\n",
       "    </tr>\n",
       "    <tr>\n",
       "      <th>2</th>\n",
       "      <td>Claire</td>\n",
       "      <td>27</td>\n",
       "      <td>F</td>\n",
       "    </tr>\n",
       "  </tbody>\n",
       "</table>\n",
       "</div>"
      ],
      "text/plain": [
       "     Name  Age Gender\n",
       "0   Alice   25      F\n",
       "1     Bob   30      M\n",
       "2  Claire   27      F"
      ]
     },
     "execution_count": 18,
     "metadata": {},
     "output_type": "execute_result"
    }
   ],
   "source": [
    "ser"
   ]
  },
  {
   "cell_type": "markdown",
   "id": "9d41e62d-bd17-43aa-9964-c9b2e14896a5",
   "metadata": {},
   "source": [
    "#Q4 \n",
    "Data frame is an record or we can say records in structural format.\n",
    "Example of dataframe - refer to Q3\n",
    "\n"
   ]
  },
  {
   "cell_type": "markdown",
   "id": "21255f37-d75d-44fc-a154-c08465da20f6",
   "metadata": {},
   "source": [
    "#Q5 Here are some function are used in dataframe are as per pandas basic class are -\n",
    "1. describe()\n",
    "2. read_csv()\n",
    "3. to_csv()\n",
    "4. head()\n",
    "5. tail()"
   ]
  },
  {
   "cell_type": "markdown",
   "id": "8f7b921d-ef4f-4e4f-98f7-a1a91158abcb",
   "metadata": {},
   "source": [
    "Q6 All series , Dataframe, and panel are value mutalbe but except series it is size immutable"
   ]
  },
  {
   "cell_type": "code",
   "execution_count": 20,
   "id": "0589fac6-5146-42db-abb4-422c004d44f1",
   "metadata": {},
   "outputs": [],
   "source": [
    "#Q7 \n",
    "import pandas as pd\n",
    "courses = pd.Series([\"Spark\",\"PySpark\",\"Hadoop\"])\n",
    "fees = pd.Series([22000,25000,23000])\n",
    "discount  = pd.Series([1000,2300,1000])"
   ]
  },
  {
   "cell_type": "code",
   "execution_count": 21,
   "id": "7f200b75-41bf-456c-9fea-ae119c4097f4",
   "metadata": {},
   "outputs": [],
   "source": [
    "us = pd.concat([courses,fees,discount]axis = 1)"
   ]
  },
  {
   "cell_type": "code",
   "execution_count": 22,
   "id": "21a458e1-4de6-40ce-a18f-e24593893136",
   "metadata": {},
   "outputs": [
    {
     "data": {
      "text/plain": [
       "0      Spark\n",
       "1    PySpark\n",
       "2     Hadoop\n",
       "0      22000\n",
       "1      25000\n",
       "2      23000\n",
       "0       1000\n",
       "1       2300\n",
       "2       1000\n",
       "dtype: object"
      ]
     },
     "execution_count": 22,
     "metadata": {},
     "output_type": "execute_result"
    }
   ],
   "source": [
    "us"
   ]
  },
  {
   "cell_type": "code",
   "execution_count": null,
   "id": "78f70e8d-ebc5-4176-885d-704339242a08",
   "metadata": {},
   "outputs": [],
   "source": []
  }
 ],
 "metadata": {
  "kernelspec": {
   "display_name": "Python 3 (ipykernel)",
   "language": "python",
   "name": "python3"
  },
  "language_info": {
   "codemirror_mode": {
    "name": "ipython",
    "version": 3
   },
   "file_extension": ".py",
   "mimetype": "text/x-python",
   "name": "python",
   "nbconvert_exporter": "python",
   "pygments_lexer": "ipython3",
   "version": "3.10.8"
  }
 },
 "nbformat": 4,
 "nbformat_minor": 5
}
